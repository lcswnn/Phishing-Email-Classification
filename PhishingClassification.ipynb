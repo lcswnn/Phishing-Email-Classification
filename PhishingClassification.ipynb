{
 "cells": [
  {
   "cell_type": "markdown",
   "metadata": {},
   "source": [
    "## Phishing Email Classification"
   ]
  },
  {
   "cell_type": "code",
   "execution_count": 43,
   "metadata": {},
   "outputs": [],
   "source": [
    "#import libraries\n",
    "import pandas as pd\n",
    "import numpy as np \n",
    "import matplotlib.pyplot as plt\n",
    "\n",
    "from sklearn.ensemble import RandomForestClassifier\n",
    "from sklearn.tree import DecisionTreeClassifier\n",
    "from sklearn.neural_network import MLPClassifier\n",
    "from sklearn.pipeline import Pipeline\n",
    "from sklearn.feature_extraction.text import TfidfVectorizer\n",
    "from sklearn.naive_bayes import MultinomialNB, ComplementNB\n",
    "from sklearn.svm import LinearSVC\n",
    "\n",
    "from sklearn.model_selection import train_test_split\n",
    "from sklearn.metrics import accuracy_score"
   ]
  },
  {
   "cell_type": "code",
   "execution_count": 44,
   "metadata": {},
   "outputs": [
    {
     "name": "stdout",
     "output_type": "stream",
     "text": [
      "(11001, 3)\n"
     ]
    },
    {
     "data": {
      "text/html": [
       "<div>\n",
       "<style scoped>\n",
       "    .dataframe tbody tr th:only-of-type {\n",
       "        vertical-align: middle;\n",
       "    }\n",
       "\n",
       "    .dataframe tbody tr th {\n",
       "        vertical-align: top;\n",
       "    }\n",
       "\n",
       "    .dataframe thead th {\n",
       "        text-align: right;\n",
       "    }\n",
       "</style>\n",
       "<table border=\"1\" class=\"dataframe\">\n",
       "  <thead>\n",
       "    <tr style=\"text-align: right;\">\n",
       "      <th></th>\n",
       "      <th>Unnamed: 0</th>\n",
       "      <th>text_combined</th>\n",
       "      <th>label</th>\n",
       "    </tr>\n",
       "  </thead>\n",
       "  <tbody>\n",
       "    <tr>\n",
       "      <th>4560</th>\n",
       "      <td>4560</td>\n",
       "      <td>pay much meds got condition require medication...</td>\n",
       "      <td>1</td>\n",
       "    </tr>\n",
       "    <tr>\n",
       "      <th>10716</th>\n",
       "      <td>10716</td>\n",
       "      <td>orig info sep ytd orig 371 969 canada ppa 316 ...</td>\n",
       "      <td>0</td>\n",
       "    </tr>\n",
       "    <tr>\n",
       "      <th>10469</th>\n",
       "      <td>10469</td>\n",
       "      <td>naturally irresistible corporate identity lt r...</td>\n",
       "      <td>1</td>\n",
       "    </tr>\n",
       "    <tr>\n",
       "      <th>676</th>\n",
       "      <td>676</td>\n",
       "      <td>wellhead adjustments daren please see attached...</td>\n",
       "      <td>0</td>\n",
       "    </tr>\n",
       "    <tr>\n",
       "      <th>2360</th>\n",
       "      <td>2360</td>\n",
       "      <td>fuel answer systems processes handle please le...</td>\n",
       "      <td>0</td>\n",
       "    </tr>\n",
       "  </tbody>\n",
       "</table>\n",
       "</div>"
      ],
      "text/plain": [
       "       Unnamed: 0                                      text_combined  label\n",
       "4560         4560  pay much meds got condition require medication...      1\n",
       "10716       10716  orig info sep ytd orig 371 969 canada ppa 316 ...      0\n",
       "10469       10469  naturally irresistible corporate identity lt r...      1\n",
       "676           676  wellhead adjustments daren please see attached...      0\n",
       "2360         2360  fuel answer systems processes handle please le...      0"
      ]
     },
     "execution_count": 44,
     "metadata": {},
     "output_type": "execute_result"
    }
   ],
   "source": [
    "#import data and print to check form\n",
    "df = pd.read_csv('phishing_email_scaled.csv')\n",
    "print(df.shape)\n",
    "df.sample(5)"
   ]
  },
  {
   "cell_type": "markdown",
   "metadata": {},
   "source": [
    "#### Code is all processed and formatted, now we pass through models for best classification model\n",
    "\n",
    "(**Disclaimer:** *Switching data types for each 12000 rows of data takes a while, making this cell below run slower than usual (1-2 min). The memory allocated for the array would be exceeded if we used the full dataset given. We still get good accuracies with all the models, therefore making our scaling justified*.)"
   ]
  },
  {
   "cell_type": "code",
   "execution_count": 45,
   "metadata": {},
   "outputs": [
    {
     "name": "stdout",
     "output_type": "stream",
     "text": [
      "<class 'pandas.core.series.Series'>\n"
     ]
    }
   ],
   "source": [
    "X = df['text_combined']\n",
    "y = df['label']\n",
    "\n",
    "print(type(X))\n",
    "\n",
    "X_train, X_test, y_train, y_test = train_test_split(X, y, train_size=0.8)"
   ]
  },
  {
   "cell_type": "code",
   "execution_count": 46,
   "metadata": {},
   "outputs": [],
   "source": [
    "#create pipelines\n",
    "pipeMNB = Pipeline([\n",
    "    ('tfidf', TfidfVectorizer()),\n",
    "    ('clf', MultinomialNB())\n",
    "])\n",
    "\n",
    "pipeCNB = Pipeline([\n",
    "    ('tfidf', TfidfVectorizer()),\n",
    "    ('clf', ComplementNB())\n",
    "])\n",
    "\n",
    "pipeSVC = Pipeline([\n",
    "    ('tfidf', TfidfVectorizer()),\n",
    "    ('clf', LinearSVC())\n",
    "])\n",
    "\n",
    "pipeDTC = Pipeline([\n",
    "    ('tfidf', TfidfVectorizer()),\n",
    "    ('clf', DecisionTreeClassifier())\n",
    "])\n",
    "\n",
    "pipeRFC = Pipeline([\n",
    "    ('tfidf', TfidfVectorizer()),\n",
    "    ('clf', RandomForestClassifier())\n",
    "])\n",
    "\n",
    "pipeMLP = Pipeline([\n",
    "    ('tfidf', TfidfVectorizer()),\n",
    "    ('clf', MLPClassifier(max_iter=10, verbose=1))\n",
    "])"
   ]
  },
  {
   "cell_type": "markdown",
   "metadata": {},
   "source": [
    "#### Time to fit and train models and print accuracy scores"
   ]
  },
  {
   "cell_type": "code",
   "execution_count": 47,
   "metadata": {},
   "outputs": [
    {
     "name": "stdout",
     "output_type": "stream",
     "text": [
      "MNB Accuracy: 0.8977737392094502\n"
     ]
    }
   ],
   "source": [
    "#MNB PipeLine\n",
    "pipeMNB.fit(X_train, y_train)\n",
    "#preds\n",
    "MNBpredict = pipeMNB.predict(X_test)\n",
    "\n",
    "#score\n",
    "MNBscore = accuracy_score(y_test, MNBpredict)\n",
    "print(f\"MNB Accuracy: {MNBscore}\")"
   ]
  },
  {
   "cell_type": "code",
   "execution_count": 48,
   "metadata": {},
   "outputs": [
    {
     "name": "stdout",
     "output_type": "stream",
     "text": [
      "CNB Accuracy: 0.9482053611994548\n"
     ]
    }
   ],
   "source": [
    "#CNB Pipeline\n",
    "pipeCNB.fit(X_train, y_train)\n",
    "#preds\n",
    "CNBpredict = pipeCNB.predict(X_test)\n",
    "\n",
    "CNBscore = accuracy_score(y_test, CNBpredict)\n",
    "print(f\"CNB Accuracy: {CNBscore}\")"
   ]
  },
  {
   "cell_type": "code",
   "execution_count": 49,
   "metadata": {},
   "outputs": [
    {
     "name": "stdout",
     "output_type": "stream",
     "text": [
      "SVC Accuracy: 0.9940935938209905\n"
     ]
    }
   ],
   "source": [
    "#LinearSVC Pipeline\n",
    "pipeSVC.fit(X_train, y_train)\n",
    "#preds\n",
    "SVCpredict = pipeSVC.predict(X_test)\n",
    "\n",
    "SVCscore = accuracy_score(y_test, SVCpredict)\n",
    "print(f\"SVC Accuracy: {SVCscore}\")"
   ]
  },
  {
   "cell_type": "code",
   "execution_count": 50,
   "metadata": {},
   "outputs": [
    {
     "name": "stdout",
     "output_type": "stream",
     "text": [
      "Decision Tree Classifier Accuracy: 0.9572921399363925\n"
     ]
    }
   ],
   "source": [
    "#Decision Tree Pipeline\n",
    "pipeDTC.fit(X_train, y_train)\n",
    "#preds\n",
    "DTCpredict = pipeDTC.predict(X_test)\n",
    "\n",
    "DTCscore = accuracy_score(y_test, DTCpredict)\n",
    "print(f\"Decision Tree Classifier Accuracy: {DTCscore}\")"
   ]
  },
  {
   "cell_type": "code",
   "execution_count": 51,
   "metadata": {},
   "outputs": [
    {
     "name": "stdout",
     "output_type": "stream",
     "text": [
      "Random Forest Accuracy: 0.9786460699681963\n"
     ]
    }
   ],
   "source": [
    "#Random Forest Pipeline\n",
    "pipeRFC.fit(X_train, y_train)\n",
    "#preds\n",
    "RFCpredict = pipeRFC.predict(X_test)\n",
    "\n",
    "RFCscore = accuracy_score(y_test, RFCpredict)\n",
    "print(f\"Random Forest Accuracy: {RFCscore}\")\n"
   ]
  },
  {
   "cell_type": "code",
   "execution_count": 52,
   "metadata": {},
   "outputs": [
    {
     "name": "stdout",
     "output_type": "stream",
     "text": [
      "Iteration 1, loss = 0.51565320\n",
      "Iteration 2, loss = 0.18602861\n",
      "Iteration 3, loss = 0.07539991\n",
      "Iteration 4, loss = 0.04026685\n",
      "Iteration 5, loss = 0.02520079\n",
      "Iteration 6, loss = 0.01749015\n",
      "Iteration 7, loss = 0.01293810\n",
      "Iteration 8, loss = 0.01002361\n",
      "Iteration 9, loss = 0.00806311\n",
      "Iteration 10, loss = 0.00671565\n",
      "MLP Accuracy: 0.9950022716946842\n"
     ]
    },
    {
     "name": "stderr",
     "output_type": "stream",
     "text": [
      "c:\\Program Files\\Python39\\lib\\site-packages\\sklearn\\neural_network\\_multilayer_perceptron.py:690: ConvergenceWarning: Stochastic Optimizer: Maximum iterations (10) reached and the optimization hasn't converged yet.\n",
      "  warnings.warn(\n"
     ]
    }
   ],
   "source": [
    "#MLP Pipeline\n",
    "pipeMLP.fit(X_train, y_train)\n",
    "#preds\n",
    "MLPpredict = pipeMLP.predict(X_test)\n",
    "\n",
    "MLPscore = accuracy_score(y_test, MLPpredict)\n",
    "print(f\"MLP Accuracy: {MLPscore}\")"
   ]
  },
  {
   "cell_type": "code",
   "execution_count": 53,
   "metadata": {},
   "outputs": [
    {
     "data": {
      "image/png": "[encoded data removed]",
      "text/plain": [
       "<Figure size 1500x500 with 1 Axes>"
      ]
     },
     "metadata": {},
     "output_type": "display_data"
    }
   ],
   "source": [
    "#Graph Performances based on training and testing\n",
    "#Graphing performances of models\n",
    "# function to add value labels\n",
    "def addlabels(x,y):\n",
    "    for i in range(len(x)):\n",
    "        plt.text(i, y[i], y[i], ha='center')\n",
    "\n",
    "fig = plt.figure(figsize = (15, 5))\n",
    "# creating the bar plot\n",
    "xFeatures = ['MNB', 'CNB', 'SVC', 'DTC', 'RFC', 'MLP']\n",
    "yFeatures = [round(MNBscore, 4), round(CNBscore, 4), round(SVCscore, 4), round(DTCscore, 4), round(RFCscore, 4), round(MLPscore, 4)]\n",
    "bars = plt.bar(xFeatures, yFeatures, width = 0.4)\n",
    "addlabels(xFeatures, yFeatures)\n",
    "plt.xlabel(\"Model Type\")\n",
    "plt.ylabel(\"Performance\")\n",
    "plt.title(\"Scores of Models Predicting Phishing Emails\")\n",
    "bars[0].set_color('darkred')\n",
    "bars[1].set_color('gold')\n",
    "bars[2].set_color('darkgreen')\n",
    "bars[3].set_color('darkblue')\n",
    "bars[4].set_color('purple')\n",
    "bars[5].set_color('cyan')\n",
    "plt.show()"
   ]
  }
 ],
 "metadata": {
  "kernelspec": {
   "display_name": "Python 3",
   "language": "python",
   "name": "python3"
  },
  "language_info": {
   "codemirror_mode": {
    "name": "ipython",
    "version": 3
   },
   "file_extension": ".py",
   "mimetype": "text/x-python",
   "name": "python",
   "nbconvert_exporter": "python",
   "pygments_lexer": "ipython3",
   "version": "3.9.6"
  }
 },
 "nbformat": 4,
 "nbformat_minor": 2
}

{
 "cells": [
  {
   "cell_type": "markdown",
   "metadata": {},
   "source": [
    "## Phishing Email Classification"
   ]
  },
  {
   "cell_type": "code",
   "execution_count": 2,
   "metadata": {},
   "outputs": [],
   "source": [
    "#import libraries\n",
    "import pandas as pd\n",
    "import numpy as np \n",
    "import matplotlib.pyplot as plt\n",
    "\n",
    "from sklearn.ensemble import RandomForestClassifier\n",
    "from sklearn.tree import DecisionTreeClassifier\n",
    "from sklearn.neural_network import MLPClassifier\n",
    "from sklearn.pipeline import Pipeline\n",
    "from sklearn.feature_extraction.text import TfidfVectorizer\n",
    "from sklearn.naive_bayes import MultinomialNB, ComplementNB\n",
    "from sklearn.svm import LinearSVC\n",
    "\n",
    "from sklearn.model_selection import train_test_split\n",
    "from sklearn.metrics import accuracy_score"
   ]
  },
  {
   "cell_type": "code",
   "execution_count": 3,
   "metadata": {},
   "outputs": [
    {
     "name": "stdout",
     "output_type": "stream",
     "text": [
      "(11000, 3)\n"
     ]
    },
    {
     "data": {
      "text/html": [
       "<div>\n",
       "<style scoped>\n",
       "    .dataframe tbody tr th:only-of-type {\n",
       "        vertical-align: middle;\n",
       "    }\n",
       "\n",
       "    .dataframe tbody tr th {\n",
       "        vertical-align: top;\n",
       "    }\n",
       "\n",
       "    .dataframe thead th {\n",
       "        text-align: right;\n",
       "    }\n",
       "</style>\n",
       "<table border=\"1\" class=\"dataframe\">\n",
       "  <thead>\n",
       "    <tr style=\"text-align: right;\">\n",
       "      <th></th>\n",
       "      <th>Unnamed: 0</th>\n",
       "      <th>text_combined</th>\n",
       "      <th>label</th>\n",
       "    </tr>\n",
       "  </thead>\n",
       "  <tbody>\n",
       "    <tr>\n",
       "      <th>9698</th>\n",
       "      <td>9698</td>\n",
       "      <td>free euro january lst 2002 european countries ...</td>\n",
       "      <td>1</td>\n",
       "    </tr>\n",
       "    <tr>\n",
       "      <th>176</th>\n",
       "      <td>176</td>\n",
       "      <td>enron hpl actuals october 10 2000 teco tap 40 ...</td>\n",
       "      <td>0</td>\n",
       "    </tr>\n",
       "    <tr>\n",
       "      <th>3095</th>\n",
       "      <td>3095</td>\n",
       "      <td>cleburne plant maintenance update fyi checked ...</td>\n",
       "      <td>0</td>\n",
       "    </tr>\n",
       "    <tr>\n",
       "      <th>7663</th>\n",
       "      <td>7663</td>\n",
       "      <td>site john griebling organization research grou...</td>\n",
       "      <td>0</td>\n",
       "    </tr>\n",
       "    <tr>\n",
       "      <th>938</th>\n",
       "      <td>938</td>\n",
       "      <td>f hpl nom eff may 1 2001 nomination may 1 avai...</td>\n",
       "      <td>0</td>\n",
       "    </tr>\n",
       "  </tbody>\n",
       "</table>\n",
       "</div>"
      ],
      "text/plain": [
       "      Unnamed: 0                                      text_combined  label\n",
       "9698        9698  free euro january lst 2002 european countries ...      1\n",
       "176          176  enron hpl actuals october 10 2000 teco tap 40 ...      0\n",
       "3095        3095  cleburne plant maintenance update fyi checked ...      0\n",
       "7663        7663  site john griebling organization research grou...      0\n",
       "938          938  f hpl nom eff may 1 2001 nomination may 1 avai...      0"
      ]
     },
     "execution_count": 3,
     "metadata": {},
     "output_type": "execute_result"
    }
   ],
   "source": [
    "#import data and print to check form\n",
    "df = pd.read_csv('phishing_email_scaled.csv')\n",
    "print(df.shape)\n",
    "df.sample(5)"
   ]
  },
  {
   "cell_type": "markdown",
   "metadata": {},
   "source": [
    "#### Code is all processed and formatted, now we pass through models for best classification model\n",
    "\n",
    "(**Disclaimer:** *Switching data types for each 12000 rows of data takes a while, making this cell below run slower than usual (1-2 min). The memory allocated for the array would be exceeded if we used the full dataset given. We still get good accuracies with all the models, therefore making our scaling justified*.)"
   ]
  },
  {
   "cell_type": "code",
   "execution_count": 4,
   "metadata": {},
   "outputs": [
    {
     "name": "stdout",
     "output_type": "stream",
     "text": [
      "<class 'pandas.core.series.Series'>\n"
     ]
    }
   ],
   "source": [
    "X = df['text_combined']\n",
    "y = df['label']\n",
    "\n",
    "print(type(X))\n",
    "\n",
    "X_train, X_test, y_train, y_test = train_test_split(X, y, train_size=0.8)"
   ]
  },
  {
   "cell_type": "code",
   "execution_count": 5,
   "metadata": {},
   "outputs": [],
   "source": [
    "#create pipelines\n",
    "pipeMNB = Pipeline([\n",
    "    ('tfidf', TfidfVectorizer()),\n",
    "    ('clf', MultinomialNB())\n",
    "])\n",
    "\n",
    "pipeCNB = Pipeline([\n",
    "    ('tfidf', TfidfVectorizer()),\n",
    "    ('clf', ComplementNB())\n",
    "])\n",
    "\n",
    "pipeSVC = Pipeline([\n",
    "    ('tfidf', TfidfVectorizer()),\n",
    "    ('clf', LinearSVC())\n",
    "])\n",
    "\n",
    "pipeDTC = Pipeline([\n",
    "    ('tfidf', TfidfVectorizer()),\n",
    "    ('clf', DecisionTreeClassifier())\n",
    "])\n",
    "\n",
    "pipeRFC = Pipeline([\n",
    "    ('tfidf', TfidfVectorizer()),\n",
    "    ('clf', RandomForestClassifier())\n",
    "])\n",
    "\n",
    "pipeMLP = Pipeline([\n",
    "    ('tfidf', TfidfVectorizer()),\n",
    "    ('clf', MLPClassifier())\n",
    "])"
   ]
  },
  {
   "cell_type": "markdown",
   "metadata": {},
   "source": [
    "#### Time to fit and train models and print accuracy scores"
   ]
  },
  {
   "cell_type": "code",
   "execution_count": 6,
   "metadata": {},
   "outputs": [
    {
     "name": "stdout",
     "output_type": "stream",
     "text": [
      "MNB Accuracy: 0.9054545454545454\n"
     ]
    }
   ],
   "source": [
    "#MNB PipeLine\n",
    "pipeMNB.fit(X_train, y_train)\n",
    "#preds\n",
    "MNBpredict = pipeMNB.predict(X_test)\n",
    "\n",
    "#score\n",
    "MNBscore = accuracy_score(y_test, MNBpredict)\n",
    "print(f\"MNB Accuracy: {MNBscore}\")"
   ]
  },
  {
   "cell_type": "code",
   "execution_count": 7,
   "metadata": {},
   "outputs": [
    {
     "name": "stdout",
     "output_type": "stream",
     "text": [
      "CNB Accuracy: 0.9540909090909091\n"
     ]
    }
   ],
   "source": [
    "#CNB Pipeline\n",
    "pipeCNB.fit(X_train, y_train)\n",
    "#preds\n",
    "CNBpredict = pipeCNB.predict(X_test)\n",
    "\n",
    "CNBscore = accuracy_score(y_test, CNBpredict)\n",
    "print(f\"CNB Accuracy: {CNBscore}\")"
   ]
  },
  {
   "cell_type": "code",
   "execution_count": 8,
   "metadata": {},
   "outputs": [
    {
     "name": "stdout",
     "output_type": "stream",
     "text": [
      "SVC Accuracy: 0.9918181818181818\n"
     ]
    }
   ],
   "source": [
    "#LinearSVC Pipeline\n",
    "pipeSVC.fit(X_train, y_train)\n",
    "#preds\n",
    "SVCpredict = pipeSVC.predict(X_test)\n",
    "\n",
    "SVCscore = accuracy_score(y_test, SVCpredict)\n",
    "print(f\"SVC Accuracy: {SVCscore}\")"
   ]
  },
  {
   "cell_type": "code",
   "execution_count": 9,
   "metadata": {},
   "outputs": [
    {
     "name": "stdout",
     "output_type": "stream",
     "text": [
      "Decision Tree Classifier Accuracy: 0.9504545454545454\n"
     ]
    }
   ],
   "source": [
    "#Decision Tree Pipeline\n",
    "pipeDTC.fit(X_train, y_train)\n",
    "#preds\n",
    "DTCpredict = pipeDTC.predict(X_test)\n",
    "\n",
    "DTCscore = accuracy_score(y_test, DTCpredict)\n",
    "print(f\"Decision Tree Classifier Accuracy: {DTCscore}\")"
   ]
  },
  {
   "cell_type": "code",
   "execution_count": 10,
   "metadata": {},
   "outputs": [
    {
     "name": "stdout",
     "output_type": "stream",
     "text": [
      "Random Forest Accuracy: 0.9818181818181818\n"
     ]
    }
   ],
   "source": [
    "#Random Forest Pipeline\n",
    "pipeRFC.fit(X_train, y_train)\n",
    "#preds\n",
    "RFCpredict = pipeRFC.predict(X_test)\n",
    "\n",
    "RFCscore = accuracy_score(y_test, RFCpredict)\n",
    "print(f\"Random Forest Accuracy: {RFCscore}\")\n"
   ]
  },
  {
   "cell_type": "code",
   "execution_count": 22,
   "metadata": {},
   "outputs": [
    {
     "data": {
      "image/png": "[encoded data removed]",
      "text/plain": [
       "<Figure size 1500x500 with 1 Axes>"
      ]
     },
     "metadata": {},
     "output_type": "display_data"
    }
   ],
   "source": [
    "#Graph Performances based on training and testing\n",
    "#Graphing performances of models\n",
    "# function to add value labels\n",
    "def addlabels(x,y):\n",
    "    for i in range(len(x)):\n",
    "        plt.text(i, y[i], y[i], ha='center')\n",
    "\n",
    "fig = plt.figure(figsize = (15, 5))\n",
    "# creating the bar plot\n",
    "xFeatures = ['MNB', 'CNB', 'SVC', 'DTC', 'RFC']\n",
    "yFeatures = [round(MNBscore, 2), round(CNBscore, 2), round(SVCscore, 2), round(DTCscore, 2), round(RFCscore, 2)]\n",
    "bars = plt.bar(xFeatures, yFeatures, width = 0.4)\n",
    "addlabels(xFeatures, yFeatures)\n",
    "plt.xlabel(\"Model Type\")\n",
    "plt.ylabel(\"Performance\")\n",
    "plt.title(\"Scores of Models Predicting Phishing Emails\")\n",
    "bars[0].set_color('darkred')\n",
    "bars[1].set_color('gold')\n",
    "bars[2].set_color('darkgreen')\n",
    "bars[3].set_color('darkblue')\n",
    "bars[4].set_color('purple')\n",
    "plt.show()"
   ]
  }
 ],
 "metadata": {
  "kernelspec": {
   "display_name": "Python 3",
   "language": "python",
   "name": "python3"
  },
  "language_info": {
   "codemirror_mode": {
    "name": "ipython",
    "version": 3
   },
   "file_extension": ".py",
   "mimetype": "text/x-python",
   "name": "python",
   "nbconvert_exporter": "python",
   "pygments_lexer": "ipython3",
   "version": "3.9.6"
  }
 },
 "nbformat": 4,
 "nbformat_minor": 2
}

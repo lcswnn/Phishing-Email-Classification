{
 "cells": [
  {
   "cell_type": "markdown",
   "metadata": {},
   "source": [
    "## Phishing Email Classification"
   ]
  },
  {
   "cell_type": "code",
   "execution_count": 8,
   "metadata": {},
   "outputs": [],
   "source": [
    "#import libraries\n",
    "import pandas as pd\n",
    "import numpy as np \n",
    "import matplotlib.pyplot as plt\n",
    "\n",
    "from sklearn.ensemble import RandomForestClassifier\n",
    "from sklearn.tree import DecisionTreeClassifier\n",
    "from sklearn.neural_network import MLPClassifier\n",
    "from sklearn.neighbors import KNeighborsClassifier\n",
    "from sklearn.pipeline import Pipeline\n",
    "from sklearn.feature_extraction.text import TfidfVectorizer\n",
    "from sklearn.naive_bayes import MultinomialNB, ComplementNB\n",
    "from sklearn.svm import LinearSVC\n",
    "\n",
    "from sklearn.model_selection import train_test_split\n",
    "from sklearn.metrics import accuracy_score, classification_report"
   ]
  },
  {
   "cell_type": "code",
   "execution_count": 9,
   "metadata": {},
   "outputs": [
    {
     "name": "stdout",
     "output_type": "stream",
     "text": [
      "(10000, 2)\n"
     ]
    },
    {
     "data": {
      "text/html": [
       "<div>\n",
       "<style scoped>\n",
       "    .dataframe tbody tr th:only-of-type {\n",
       "        vertical-align: middle;\n",
       "    }\n",
       "\n",
       "    .dataframe tbody tr th {\n",
       "        vertical-align: top;\n",
       "    }\n",
       "\n",
       "    .dataframe thead th {\n",
       "        text-align: right;\n",
       "    }\n",
       "</style>\n",
       "<table border=\"1\" class=\"dataframe\">\n",
       "  <thead>\n",
       "    <tr style=\"text-align: right;\">\n",
       "      <th></th>\n",
       "      <th>Email Text</th>\n",
       "      <th>Email Type</th>\n",
       "    </tr>\n",
       "  </thead>\n",
       "  <tbody>\n",
       "    <tr>\n",
       "      <th>1217</th>\n",
       "      <td>\\n    &gt;&gt; If and when we package this, perhaps ...</td>\n",
       "      <td>Safe Email</td>\n",
       "    </tr>\n",
       "    <tr>\n",
       "      <th>3700</th>\n",
       "      <td>fw : ferc meeting summary the commission held ...</td>\n",
       "      <td>Safe Email</td>\n",
       "    </tr>\n",
       "    <tr>\n",
       "      <th>6315</th>\n",
       "      <td>Matthew Cline  writes:&gt; There must be *some* w...</td>\n",
       "      <td>Safe Email</td>\n",
       "    </tr>\n",
       "    <tr>\n",
       "      <th>8327</th>\n",
       "      <td>thank you for the memories dear all : the last...</td>\n",
       "      <td>Safe Email</td>\n",
       "    </tr>\n",
       "    <tr>\n",
       "      <th>6141</th>\n",
       "      <td>URL: http://www.livejournal.com/talkread.bml?j...</td>\n",
       "      <td>Safe Email</td>\n",
       "    </tr>\n",
       "  </tbody>\n",
       "</table>\n",
       "</div>"
      ],
      "text/plain": [
       "                                             Email Text  Email Type\n",
       "1217  \\n    >> If and when we package this, perhaps ...  Safe Email\n",
       "3700  fw : ferc meeting summary the commission held ...  Safe Email\n",
       "6315  Matthew Cline  writes:> There must be *some* w...  Safe Email\n",
       "8327  thank you for the memories dear all : the last...  Safe Email\n",
       "6141  URL: http://www.livejournal.com/talkread.bml?j...  Safe Email"
      ]
     },
     "execution_count": 9,
     "metadata": {},
     "output_type": "execute_result"
    }
   ],
   "source": [
    "#import data and print to check form\n",
    "df = pd.read_csv('Phishing_Email.csv', usecols=['Email Text', 'Email Type'], nrows=10000)\n",
    "print(df.shape)\n",
    "df.sample(5)"
   ]
  },
  {
   "cell_type": "code",
   "execution_count": 10,
   "metadata": {},
   "outputs": [],
   "source": [
    "#one hto encode email type\n",
    "one_hot = pd.get_dummies(df['Email Type'], drop_first=True)\n",
    "df = df.drop('Email Type', axis=1)\n",
    "df = df.join(one_hot)"
   ]
  },
  {
   "cell_type": "code",
   "execution_count": 11,
   "metadata": {},
   "outputs": [
    {
     "data": {
      "text/html": [
       "<div>\n",
       "<style scoped>\n",
       "    .dataframe tbody tr th:only-of-type {\n",
       "        vertical-align: middle;\n",
       "    }\n",
       "\n",
       "    .dataframe tbody tr th {\n",
       "        vertical-align: top;\n",
       "    }\n",
       "\n",
       "    .dataframe thead th {\n",
       "        text-align: right;\n",
       "    }\n",
       "</style>\n",
       "<table border=\"1\" class=\"dataframe\">\n",
       "  <thead>\n",
       "    <tr style=\"text-align: right;\">\n",
       "      <th></th>\n",
       "      <th>Email Text</th>\n",
       "      <th>Safe Email</th>\n",
       "    </tr>\n",
       "  </thead>\n",
       "  <tbody>\n",
       "    <tr>\n",
       "      <th>9781</th>\n",
       "      <td>super - discounts on víagra and cialis up to 8...</td>\n",
       "      <td>False</td>\n",
       "    </tr>\n",
       "    <tr>\n",
       "      <th>7546</th>\n",
       "      <td>more on \" mazel tov \" as far as i know , hebre...</td>\n",
       "      <td>True</td>\n",
       "    </tr>\n",
       "    <tr>\n",
       "      <th>3478</th>\n",
       "      <td>8 - bit characters dear fellow linguists : in ...</td>\n",
       "      <td>True</td>\n",
       "    </tr>\n",
       "    <tr>\n",
       "      <th>9840</th>\n",
       "      <td>awali is there anyone who can tell me which is...</td>\n",
       "      <td>True</td>\n",
       "    </tr>\n",
       "    <tr>\n",
       "      <th>8462</th>\n",
       "      <td>saturday on saturday i came to work and did so...</td>\n",
       "      <td>True</td>\n",
       "    </tr>\n",
       "    <tr>\n",
       "      <th>8483</th>\n",
       "      <td>language technology in multimedia information ...</td>\n",
       "      <td>True</td>\n",
       "    </tr>\n",
       "    <tr>\n",
       "      <th>1462</th>\n",
       "      <td>fw : press release - enron announces progress ...</td>\n",
       "      <td>True</td>\n",
       "    </tr>\n",
       "    <tr>\n",
       "      <th>4152</th>\n",
       "      <td>re : sorry i forgot the attachment . aimee lan...</td>\n",
       "      <td>True</td>\n",
       "    </tr>\n",
       "    <tr>\n",
       "      <th>7835</th>\n",
       "      <td>http://spineless.org/~mod/pix/octoberMoon.jpg\\...</td>\n",
       "      <td>True</td>\n",
       "    </tr>\n",
       "    <tr>\n",
       "      <th>7280</th>\n",
       "      <td>woww . . 8 o - % off paliourg buy med ' s on -...</td>\n",
       "      <td>False</td>\n",
       "    </tr>\n",
       "  </tbody>\n",
       "</table>\n",
       "</div>"
      ],
      "text/plain": [
       "                                             Email Text  Safe Email\n",
       "9781  super - discounts on víagra and cialis up to 8...       False\n",
       "7546  more on \" mazel tov \" as far as i know , hebre...        True\n",
       "3478  8 - bit characters dear fellow linguists : in ...        True\n",
       "9840  awali is there anyone who can tell me which is...        True\n",
       "8462  saturday on saturday i came to work and did so...        True\n",
       "8483  language technology in multimedia information ...        True\n",
       "1462  fw : press release - enron announces progress ...        True\n",
       "4152  re : sorry i forgot the attachment . aimee lan...        True\n",
       "7835  http://spineless.org/~mod/pix/octoberMoon.jpg\\...        True\n",
       "7280  woww . . 8 o - % off paliourg buy med ' s on -...       False"
      ]
     },
     "execution_count": 11,
     "metadata": {},
     "output_type": "execute_result"
    }
   ],
   "source": [
    "df.sample(10)"
   ]
  },
  {
   "cell_type": "markdown",
   "metadata": {},
   "source": [
    "#### Code is all processed and formatted, now we pass through models for best classification model\n",
    "\n",
    "(**Disclaimer:** *Switching data types for each 12000 rows of data takes a while, making this cell below run slower than usual (1-2 min). The memory allocated for the array would be exceeded if we used the full dataset given. We still get good accuracies with all the models, therefore making our scaling justified*.)"
   ]
  },
  {
   "cell_type": "code",
   "execution_count": 12,
   "metadata": {},
   "outputs": [
    {
     "name": "stdout",
     "output_type": "stream",
     "text": [
      "<class 'numpy.ndarray'>\n"
     ]
    }
   ],
   "source": [
    "X = df['Email Text'].values.astype('U')\n",
    "y = df['Safe Email']\n",
    "\n",
    "print(type(X))\n",
    "\n",
    "X_train, X_test, y_train, y_test = train_test_split(X, y, train_size=0.8, random_state=42)"
   ]
  },
  {
   "cell_type": "code",
   "execution_count": 21,
   "metadata": {},
   "outputs": [],
   "source": [
    "#create pipelines\n",
    "pipeMNB = Pipeline([\n",
    "    ('tfidf', TfidfVectorizer()),\n",
    "    ('clf', MultinomialNB())\n",
    "])\n",
    "\n",
    "pipeCNB = Pipeline([\n",
    "    ('tfidf', TfidfVectorizer()),\n",
    "    ('clf', ComplementNB())\n",
    "])\n",
    "\n",
    "pipeSVC = Pipeline([\n",
    "    ('tfidf', TfidfVectorizer()),\n",
    "    ('clf', LinearSVC())\n",
    "])\n",
    "\n",
    "pipeDTC = Pipeline([\n",
    "    ('tfidf', TfidfVectorizer()),\n",
    "    ('clf', DecisionTreeClassifier())\n",
    "])\n",
    "\n",
    "pipeKNN = Pipeline([\n",
    "    ('tfidf', TfidfVectorizer()),\n",
    "    ('clf', KNeighborsClassifier())\n",
    "])\n",
    "\n",
    "pipeMLP = Pipeline([\n",
    "    ('tfidf', TfidfVectorizer()),\n",
    "    ('clf', MLPClassifier())\n",
    "])"
   ]
  },
  {
   "cell_type": "markdown",
   "metadata": {},
   "source": [
    "#### Time to fit and train models and print accuracy scores"
   ]
  },
  {
   "cell_type": "code",
   "execution_count": 14,
   "metadata": {},
   "outputs": [
    {
     "name": "stdout",
     "output_type": "stream",
     "text": [
      "MNB Accuracy: 0.8835\n"
     ]
    }
   ],
   "source": [
    "#MNB PipeLine\n",
    "pipeMNB.fit(X_train, y_train)\n",
    "#preds\n",
    "MNBpredict = pipeMNB.predict(X_test)\n",
    "\n",
    "#score\n",
    "MNBscore = accuracy_score(y_test, MNBpredict)\n",
    "print(f\"MNB Accuracy: {MNBscore}\")"
   ]
  },
  {
   "cell_type": "code",
   "execution_count": 15,
   "metadata": {},
   "outputs": [
    {
     "name": "stdout",
     "output_type": "stream",
     "text": [
      "CNB Accuracy: 0.9165\n"
     ]
    }
   ],
   "source": [
    "#CNB Pipeline\n",
    "pipeCNB.fit(X_train, y_train)\n",
    "#preds\n",
    "CNBpredict = pipeCNB.predict(X_test)\n",
    "\n",
    "CNBscore = accuracy_score(y_test, CNBpredict)\n",
    "print(f\"CNB Accuracy: {CNBscore}\")"
   ]
  },
  {
   "cell_type": "code",
   "execution_count": 16,
   "metadata": {},
   "outputs": [
    {
     "name": "stdout",
     "output_type": "stream",
     "text": [
      "SVC Accuracy: 0.9785\n"
     ]
    }
   ],
   "source": [
    "#LinearSVC Pipeline\n",
    "pipeSVC.fit(X_train, y_train)\n",
    "#preds\n",
    "SVCpredict = pipeSVC.predict(X_test)\n",
    "\n",
    "SVCscore = accuracy_score(y_test, SVCpredict)\n",
    "print(f\"SVC Accuracy: {SVCscore}\")"
   ]
  },
  {
   "cell_type": "code",
   "execution_count": 17,
   "metadata": {},
   "outputs": [
    {
     "name": "stdout",
     "output_type": "stream",
     "text": [
      "Decision Tree Classifier Accuracy: 0.9085\n"
     ]
    }
   ],
   "source": [
    "#Decision Tree Pipeline\n",
    "pipeDTC.fit(X_train, y_train)\n",
    "#preds\n",
    "DTCpredict = pipeDTC.predict(X_test)\n",
    "\n",
    "DTCscore = accuracy_score(y_test, DTCpredict)\n",
    "print(f\"Decision Tree Classifier Accuracy: {DTCscore}\")"
   ]
  },
  {
   "cell_type": "code",
   "execution_count": 20,
   "metadata": {},
   "outputs": [
    {
     "name": "stdout",
     "output_type": "stream",
     "text": [
      "K Nearest Neighbors Accuracy: 0.927\n"
     ]
    }
   ],
   "source": [
    "#KNearest Neighbors Pipeline\n",
    "pipeKNN.fit(X_train, y_train)\n",
    "#preds\n",
    "KNNpredict = pipeKNN.predict(X_test)\n",
    "\n",
    "KNNscore = accuracy_score(y_test, KNNpredict)\n",
    "print(f\"K Nearest Neighbors Accuracy: {KNNscore}\")\n"
   ]
  },
  {
   "cell_type": "code",
   "execution_count": 22,
   "metadata": {},
   "outputs": [
    {
     "name": "stderr",
     "output_type": "stream",
     "text": [
      "c:\\Program Files\\Python39\\lib\\site-packages\\sklearn\\neural_network\\_multilayer_perceptron.py:697: UserWarning: Training interrupted by user.\n",
      "  warnings.warn(\"Training interrupted by user.\")\n"
     ]
    },
    {
     "name": "stdout",
     "output_type": "stream",
     "text": [
      "MLP Accuracy: 0.9895\n"
     ]
    }
   ],
   "source": [
    "#MLP Neural Network Pipeline\n",
    "pipeMLP.fit(X_test, y_test)\n",
    "#preds\n",
    "MLPpredict = pipeMLP.predict(X_test)\n",
    "\n",
    "MLPscore = accuracy_score(y_test, MLPpredict)\n",
    "print(f\"MLP Accuracy: {MLPscore}\")"
   ]
  }
 ],
 "metadata": {
  "kernelspec": {
   "display_name": "Python 3",
   "language": "python",
   "name": "python3"
  },
  "language_info": {
   "codemirror_mode": {
    "name": "ipython",
    "version": 3
   },
   "file_extension": ".py",
   "mimetype": "text/x-python",
   "name": "python",
   "nbconvert_exporter": "python",
   "pygments_lexer": "ipython3",
   "version": "3.9.6"
  }
 },
 "nbformat": 4,
 "nbformat_minor": 2
}
